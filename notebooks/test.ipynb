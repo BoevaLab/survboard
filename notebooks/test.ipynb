{
 "cells": [
  {
   "cell_type": "code",
   "execution_count": 2,
   "metadata": {},
   "outputs": [
    {
     "ename": "ModuleNotFoundError",
     "evalue": "No module named 'python_modules'",
     "output_type": "error",
     "traceback": [
      "\u001b[0;31m---------------------------------------------------------------------------\u001b[0m",
      "\u001b[0;31mModuleNotFoundError\u001b[0m                       Traceback (most recent call last)",
      "\u001b[1;32m/Users/nja/Desktop/survival-benchmark/survival-benchmark/survival-benchmark/notebooks/test.ipynb Cell 1'\u001b[0m in \u001b[0;36m<cell line: 6>\u001b[0;34m()\u001b[0m\n\u001b[1;32m      <a href='vscode-notebook-cell:/Users/nja/Desktop/survival-benchmark/survival-benchmark/survival-benchmark/notebooks/test.ipynb#ch0000000?line=3'>4</a>\u001b[0m \u001b[39mimport\u001b[39;00m \u001b[39mpandas\u001b[39;00m \u001b[39mas\u001b[39;00m \u001b[39mpd\u001b[39;00m\n\u001b[1;32m      <a href='vscode-notebook-cell:/Users/nja/Desktop/survival-benchmark/survival-benchmark/survival-benchmark/notebooks/test.ipynb#ch0000000?line=4'>5</a>\u001b[0m \u001b[39mfrom\u001b[39;00m \u001b[39mcollections\u001b[39;00m \u001b[39mimport\u001b[39;00m defaultdict\n\u001b[0;32m----> <a href='vscode-notebook-cell:/Users/nja/Desktop/survival-benchmark/survival-benchmark/survival-benchmark/notebooks/test.ipynb#ch0000000?line=5'>6</a>\u001b[0m \u001b[39mfrom\u001b[39;00m \u001b[39mpython_modules\u001b[39;00m\u001b[39m.\u001b[39;00m\u001b[39mutils\u001b[39;00m\u001b[39m.\u001b[39;00m\u001b[39mmetrics\u001b[39;00m \u001b[39mimport\u001b[39;00m EvalSurvDCalib\n\u001b[1;32m      <a href='vscode-notebook-cell:/Users/nja/Desktop/survival-benchmark/survival-benchmark/survival-benchmark/notebooks/test.ipynb#ch0000000?line=7'>8</a>\u001b[0m test_annotation_file \u001b[39m=\u001b[39m \u001b[39m'\u001b[39m\u001b[39m/Users/nja/Downloads/enrico_example/rats/master.csv\u001b[39m\u001b[39m'\u001b[39m\n\u001b[1;32m      <a href='vscode-notebook-cell:/Users/nja/Desktop/survival-benchmark/survival-benchmark/survival-benchmark/notebooks/test.ipynb#ch0000000?line=8'>9</a>\u001b[0m user_annotation_folder \u001b[39m=\u001b[39m \u001b[39m'\u001b[39m\u001b[39m/Users/nja/Downloads/enrico_example/rats\u001b[39m\u001b[39m'\u001b[39m\n",
      "\u001b[0;31mModuleNotFoundError\u001b[0m: No module named 'python_modules'"
     ]
    }
   ],
   "source": [
    "import os\n",
    "import sys\n",
    "import numpy as np\n",
    "import pandas as pd\n",
    "from collections import defaultdict\n",
    "from python_modules.utils.metrics import EvalSurvDCalib\n",
    "\n",
    "test_annotation_file = '/Users/nja/Downloads/enrico_example/rats/master.csv'\n",
    "user_annotation_folder = '/Users/nja/Downloads/enrico_example/rats'\n",
    "test_splits_file = '/Users/nja/Downloads/enrico_example/rats/test_splits.csv'\n",
    "n_splits = 25\n",
    "ibs_grid_length = 100\n",
    "phase_codename  = 'Trial Run'\n",
    "\n",
    "def evaluate(test_annotation_file, user_annotation_folder, phase_codename, test_splits_file, n_splits, ibs_grid_length, **kwargs):\n",
    "    # maybe user file can be a folder instead, cancer -> splits\n",
    "    # test_splits - ideally should be a dict of split idx, currently it is a csv file where each col specifies the indices in a split\n",
    "    # user_prediction_files = os.listdir(user_annotation_folder)\n",
    "    test_splits = pd.read_csv(test_splits_file)\n",
    "\n",
    "    d_calibration_statistic = np.zeros(n_splits)\n",
    "    integrated_brier_score = np.zeros(n_splits)\n",
    "    antolini_concordance = np.zeros(n_splits)\n",
    "\n",
    "    master = pd.read_csv(test_annotation_file)\n",
    "    status = master[\"status\"].values\n",
    "    time = master[\"time\"].values\n",
    "\n",
    "    output = defaultdict(list)\n",
    "    cancer = 'Test'\n",
    "\n",
    "    for i in range(n_splits):\n",
    "       \n",
    "        test_ix = test_splits.iloc[:, i].dropna().values\n",
    "        \n",
    "        predictions = pd.read_csv(os.path.join(user_annotation_folder,f'split_{i + 1}.csv')).T\n",
    "        predictions.index = predictions.index.astype(int)\n",
    "        eval_surv = EvalSurvDCalib(\n",
    "            surv=predictions,\n",
    "            # Splits were created from R so need to\n",
    "            # switch from 1 to 0 indexing.\n",
    "            durations=time[test_ix - 1],\n",
    "            events=status[test_ix - 1],\n",
    "            censor_surv=\"km\",\n",
    "            steps=\"post\",\n",
    "        )\n",
    "        antolini_concordance[i] = eval_surv.concordance_td()\n",
    "        print(antolini_concordance)\n",
    "        d_calibration_statistic[i] = eval_surv.d_calibration_()\n",
    "        print(d_calibration_statistic)\n",
    "        integrated_brier_score[i] = eval_surv.integrated_brier_score(\n",
    "            time_grid=np.linspace(\n",
    "                np.min(time[test_ix - 1]),\n",
    "                np.max(time[test_ix - 1]),\n",
    "                ibs_grid_length,\n",
    "            )\n",
    "        )\n",
    "        print(integrated_brier_score)\n",
    "\n",
    "    cancer_dict = {cancer: {'antolini_concordance':np.median(antolini_concordance),'d_calibration_statistic':np.median(d_calibration_statistic),'integrated_brier_score':np.median(integrated_brier_score)}}\n",
    "    \n",
    "    output['result'].append(cancer_dict)\n",
    "    \n",
    "    return output "
   ]
  },
  {
   "cell_type": "code",
   "execution_count": null,
   "metadata": {},
   "outputs": [],
   "source": []
  }
 ],
 "metadata": {
  "interpreter": {
   "hash": "14f660d8bd35079bd85c3fb2ece886548cc5ffe5bc1b98d68af64c97821c57bd"
  },
  "kernelspec": {
   "display_name": "Python 3.8.13 ('survival')",
   "language": "python",
   "name": "python3"
  },
  "language_info": {
   "codemirror_mode": {
    "name": "ipython",
    "version": 3
   },
   "file_extension": ".py",
   "mimetype": "text/x-python",
   "name": "python",
   "nbconvert_exporter": "python",
   "pygments_lexer": "ipython3",
   "version": "3.8.13"
  },
  "orig_nbformat": 4
 },
 "nbformat": 4,
 "nbformat_minor": 2
}
