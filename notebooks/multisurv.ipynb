{
 "cells": [
  {
   "cell_type": "code",
   "execution_count": 279,
   "metadata": {},
   "outputs": [],
   "source": [
    "import numpy as np\n",
    "import pandas as pd\n",
    "import torch\n",
    "from skorch.net import NeuralNet\n",
    "import os "
   ]
  },
  {
   "cell_type": "code",
   "execution_count": 280,
   "metadata": {},
   "outputs": [],
   "source": [
    "from survival_benchmark.python.modules.MultiSurv.multisurv import MultiSurv\n",
    "from survival_benchmark.python.modules.MultiSurv.loss import Loss"
   ]
  },
  {
   "cell_type": "code",
   "execution_count": 271,
   "metadata": {},
   "outputs": [],
   "source": [
    "data_location = '/Users/nja/Desktop/survival-benchmark/data/TARGET/CBioPortal/wt_target_2018_pub/processed_v6/WT_data_complete_modalities_preprocessed.csv'"
   ]
  },
  {
   "cell_type": "code",
   "execution_count": 281,
   "metadata": {},
   "outputs": [],
   "source": [
    "import os\n",
    "import random\n",
    "import csv\n",
    "import warnings\n",
    "import pandas as pd \n",
    "\n",
    "import torch\n",
    "from torch.utils.data import Dataset, DataLoader\n",
    "\n",
    "from typing import List, Tuple\n",
    "\n",
    "class MultimodalDataset(Dataset):\n",
    "    \"\"\"Dataset class for MultiSurv; Returns a dictionary where each key is a modality\n",
    "    and the corresponding value is the tensor \n",
    "    \"\"\"\n",
    "\n",
    "    def __init__(self, data_path:str,label_path:str=None, modalities:List[str] = ['clinical','gex','mirna','cnv','meth','mut'], dropout:int=0, device:torch.device=torch.device('cuda:0' if torch.cuda.is_available() else 'cpu')) -> None:\n",
    "        super().__init__()\n",
    "\n",
    "        self.data = pd.read_csv(data_path,index_col=0)\n",
    "        if label_path:\n",
    "            self.labels = pd.read_csv(label_path)\n",
    "        else:\n",
    "            try:\n",
    "                self.labels = self.data[['OS_days','OS']]\n",
    "            except KeyError:\n",
    "                print(\"Survival event and time not available in data. Please provide a path to label file instead.\")\n",
    "\n",
    "    \n",
    "        try:\n",
    "            self.patient_ids = self.data['patient_id']\n",
    "        except KeyError:\n",
    "            print(\"patient_id not found in data, using index\")\n",
    "            self.patient_ids = self.data.index\n",
    "\n",
    "        self.available_modalities = [m for m in modalities if any(self.data.columns.str.contains(m))]\n",
    "\n",
    "        assert 0 <= dropout <= 1, '\"dropout\" must be in [0, 1].'\n",
    "        self.dropout = dropout\n",
    "    \n",
    "        # assert all(any(self.data.columns.str.contains(m)) for m in modalities), \"One or more modalities not present in the data\"\n",
    "        assert all(any(self.data.columns.str.contains(m)) for m in self.available_modalities), \"One or more modalities not present in the data\"\n",
    "    \n",
    "    def _get_modality(self, modality, patient_id):\n",
    "        columns_to_subset = self.data.columns[self.data.columns.str.contains(modality)]\n",
    "        subset = self.data.loc[patient_id,columns_to_subset]\n",
    "        # return subset.to_numpy()\n",
    "        if modality == 'clinical':\n",
    "            # return torch.zeros(1)\n",
    "            # TODO: add a transformation here for clinical -> tensor\n",
    "            return subset.to_numpy()\n",
    "        elif all(subset.isna()):\n",
    "            print(\"error, found missing data\")\n",
    "            return self._set_missing_modality(subset)\n",
    "        else:\n",
    "            return torch.from_numpy(np.array(subset,dtype=np.float32))\n",
    "    \n",
    "    def _set_missing_modality(self,data,value:float=0.0):\n",
    "        \n",
    "        return torch.from_numpy(data.fillna(value).to_numpy())\n",
    "    \n",
    "    def _drop_data(self,data):\n",
    "        \n",
    "        # for clinical, multisurv only uses continous features for drop out\n",
    "\n",
    "        # Drop data modality\n",
    "        n_mod = len(self.available_modalities)\n",
    "        modalities_to_drop = self.available_modalities\n",
    "        modalities_to_drop.remove('clinical')\n",
    "        if n_mod > 1:\n",
    "            if random.random() < self.dropout:\n",
    "                drop_modality = random.choice(modalities_to_drop)\n",
    "                \n",
    "                data[drop_modality] = torch.zeros_like(data[drop_modality])\n",
    "\n",
    "        return data \n",
    "    \n",
    "    def get_patient_dict(self,patient_id):\n",
    "        time, event = self.labels.loc[patient_id]\n",
    "        data = {}\n",
    "\n",
    "        # Load selected patient's data\n",
    "        for modality in self.available_modalities:\n",
    "            data[modality] = self._get_modality(modality,patient_id)\n",
    "\n",
    "        # Data dropout\n",
    "        if self.dropout > 0:\n",
    "            n_modalities = len([k for k in data])\n",
    "            if n_modalities > 1:\n",
    "                data = self._drop_data(data)\n",
    "\n",
    "        return data, time, event\n",
    "\n",
    "    def __len__(self):\n",
    "        return len(self.data)\n",
    "\n",
    "    def __getitem__(self, idx):\n",
    "        patient_id = self.patient_ids[idx]\n",
    "        data, time, event = self.get_patient_dict(patient_id)\n",
    "        # target = np.array([f\"{int(event)}|{time}\"])\n",
    "        return data, (time, event)\n"
   ]
  },
  {
   "cell_type": "code",
   "execution_count": 282,
   "metadata": {},
   "outputs": [
    {
     "name": "stdout",
     "output_type": "stream",
     "text": [
      "patient_id not found in data, using index\n"
     ]
    }
   ],
   "source": [
    "dataset = MultimodalDataset(data_location)"
   ]
  },
  {
   "cell_type": "code",
   "execution_count": 274,
   "metadata": {},
   "outputs": [],
   "source": [
    "multisurv_skorch = NeuralNet(\n",
    "    module=MultiSurv,\n",
    "    criterion=Loss,\n",
    "    optimizer=torch.optim.Adam,\n",
    "    module__data_modalities=['clinical'],\n",
    "    module__n_output_intervals = 20,\n",
    ")"
   ]
  },
  {
   "cell_type": "code",
   "execution_count": 275,
   "metadata": {},
   "outputs": [
    {
     "name": "stderr",
     "output_type": "stream",
     "text": [
      "/Users/nja/Desktop/survival-benchmark/survival-benchmark/survival_benchmark/python/modules/MultiSurv/multisurv.py:82: UserWarning: Input data is unimodal: no fusion procedure.\n",
      "  warnings.warn(\"Input data is unimodal: no fusion procedure.\")\n"
     ]
    },
    {
     "ename": "TypeError",
     "evalue": "default_collate: batch must contain tensors, numpy arrays, numbers, dicts or lists; found object",
     "output_type": "error",
     "traceback": [
      "\u001b[0;31m---------------------------------------------------------------------------\u001b[0m",
      "\u001b[0;31mTypeError\u001b[0m                                 Traceback (most recent call last)",
      "File \u001b[0;32m~/opt/anaconda3/envs/survival/lib/python3.8/site-packages/torch/utils/data/_utils/collate.py:157\u001b[0m, in \u001b[0;36mdefault_collate\u001b[0;34m(batch)\u001b[0m\n\u001b[1;32m    <a href='file:///Users/nja/opt/anaconda3/envs/survival/lib/python3.8/site-packages/torch/utils/data/_utils/collate.py?line=155'>156</a>\u001b[0m \u001b[39mtry\u001b[39;00m:\n\u001b[0;32m--> <a href='file:///Users/nja/opt/anaconda3/envs/survival/lib/python3.8/site-packages/torch/utils/data/_utils/collate.py?line=156'>157</a>\u001b[0m     \u001b[39mreturn\u001b[39;00m elem_type({key: default_collate([d[key] \u001b[39mfor\u001b[39;00m d \u001b[39min\u001b[39;00m batch]) \u001b[39mfor\u001b[39;00m key \u001b[39min\u001b[39;00m elem})\n\u001b[1;32m    <a href='file:///Users/nja/opt/anaconda3/envs/survival/lib/python3.8/site-packages/torch/utils/data/_utils/collate.py?line=157'>158</a>\u001b[0m \u001b[39mexcept\u001b[39;00m \u001b[39mTypeError\u001b[39;00m:\n\u001b[1;32m    <a href='file:///Users/nja/opt/anaconda3/envs/survival/lib/python3.8/site-packages/torch/utils/data/_utils/collate.py?line=158'>159</a>\u001b[0m     \u001b[39m# The mapping type may not support `__init__(iterable)`.\u001b[39;00m\n",
      "File \u001b[0;32m~/opt/anaconda3/envs/survival/lib/python3.8/site-packages/torch/utils/data/_utils/collate.py:157\u001b[0m, in \u001b[0;36m<dictcomp>\u001b[0;34m(.0)\u001b[0m\n\u001b[1;32m    <a href='file:///Users/nja/opt/anaconda3/envs/survival/lib/python3.8/site-packages/torch/utils/data/_utils/collate.py?line=155'>156</a>\u001b[0m \u001b[39mtry\u001b[39;00m:\n\u001b[0;32m--> <a href='file:///Users/nja/opt/anaconda3/envs/survival/lib/python3.8/site-packages/torch/utils/data/_utils/collate.py?line=156'>157</a>\u001b[0m     \u001b[39mreturn\u001b[39;00m elem_type({key: default_collate([d[key] \u001b[39mfor\u001b[39;49;00m d \u001b[39min\u001b[39;49;00m batch]) \u001b[39mfor\u001b[39;00m key \u001b[39min\u001b[39;00m elem})\n\u001b[1;32m    <a href='file:///Users/nja/opt/anaconda3/envs/survival/lib/python3.8/site-packages/torch/utils/data/_utils/collate.py?line=157'>158</a>\u001b[0m \u001b[39mexcept\u001b[39;00m \u001b[39mTypeError\u001b[39;00m:\n\u001b[1;32m    <a href='file:///Users/nja/opt/anaconda3/envs/survival/lib/python3.8/site-packages/torch/utils/data/_utils/collate.py?line=158'>159</a>\u001b[0m     \u001b[39m# The mapping type may not support `__init__(iterable)`.\u001b[39;00m\n",
      "File \u001b[0;32m~/opt/anaconda3/envs/survival/lib/python3.8/site-packages/torch/utils/data/_utils/collate.py:144\u001b[0m, in \u001b[0;36mdefault_collate\u001b[0;34m(batch)\u001b[0m\n\u001b[1;32m    <a href='file:///Users/nja/opt/anaconda3/envs/survival/lib/python3.8/site-packages/torch/utils/data/_utils/collate.py?line=142'>143</a>\u001b[0m \u001b[39mif\u001b[39;00m np_str_obj_array_pattern\u001b[39m.\u001b[39msearch(elem\u001b[39m.\u001b[39mdtype\u001b[39m.\u001b[39mstr) \u001b[39mis\u001b[39;00m \u001b[39mnot\u001b[39;00m \u001b[39mNone\u001b[39;00m:\n\u001b[0;32m--> <a href='file:///Users/nja/opt/anaconda3/envs/survival/lib/python3.8/site-packages/torch/utils/data/_utils/collate.py?line=143'>144</a>\u001b[0m     \u001b[39mraise\u001b[39;00m \u001b[39mTypeError\u001b[39;00m(default_collate_err_msg_format\u001b[39m.\u001b[39mformat(elem\u001b[39m.\u001b[39mdtype))\n\u001b[1;32m    <a href='file:///Users/nja/opt/anaconda3/envs/survival/lib/python3.8/site-packages/torch/utils/data/_utils/collate.py?line=145'>146</a>\u001b[0m \u001b[39mreturn\u001b[39;00m default_collate([torch\u001b[39m.\u001b[39mas_tensor(b) \u001b[39mfor\u001b[39;00m b \u001b[39min\u001b[39;00m batch])\n",
      "\u001b[0;31mTypeError\u001b[0m: default_collate: batch must contain tensors, numpy arrays, numbers, dicts or lists; found object",
      "\nDuring handling of the above exception, another exception occurred:\n",
      "\u001b[0;31mTypeError\u001b[0m                                 Traceback (most recent call last)",
      "\u001b[1;32m/Users/nja/Desktop/survival-benchmark/survival-benchmark/notebooks/multisurv.ipynb Cell 7'\u001b[0m in \u001b[0;36m<cell line: 1>\u001b[0;34m()\u001b[0m\n\u001b[0;32m----> <a href='vscode-notebook-cell:/Users/nja/Desktop/survival-benchmark/survival-benchmark/notebooks/multisurv.ipynb#ch0000021?line=0'>1</a>\u001b[0m multisurv_skorch\u001b[39m.\u001b[39;49mfit(dataset)\n",
      "File \u001b[0;32m~/opt/anaconda3/envs/survival/lib/python3.8/site-packages/skorch/net.py:1215\u001b[0m, in \u001b[0;36mNeuralNet.fit\u001b[0;34m(self, X, y, **fit_params)\u001b[0m\n\u001b[1;32m   <a href='file:///Users/nja/opt/anaconda3/envs/survival/lib/python3.8/site-packages/skorch/net.py?line=1211'>1212</a>\u001b[0m \u001b[39mif\u001b[39;00m \u001b[39mnot\u001b[39;00m \u001b[39mself\u001b[39m\u001b[39m.\u001b[39mwarm_start \u001b[39mor\u001b[39;00m \u001b[39mnot\u001b[39;00m \u001b[39mself\u001b[39m\u001b[39m.\u001b[39minitialized_:\n\u001b[1;32m   <a href='file:///Users/nja/opt/anaconda3/envs/survival/lib/python3.8/site-packages/skorch/net.py?line=1212'>1213</a>\u001b[0m     \u001b[39mself\u001b[39m\u001b[39m.\u001b[39minitialize()\n\u001b[0;32m-> <a href='file:///Users/nja/opt/anaconda3/envs/survival/lib/python3.8/site-packages/skorch/net.py?line=1214'>1215</a>\u001b[0m \u001b[39mself\u001b[39;49m\u001b[39m.\u001b[39;49mpartial_fit(X, y, \u001b[39m*\u001b[39;49m\u001b[39m*\u001b[39;49mfit_params)\n\u001b[1;32m   <a href='file:///Users/nja/opt/anaconda3/envs/survival/lib/python3.8/site-packages/skorch/net.py?line=1215'>1216</a>\u001b[0m \u001b[39mreturn\u001b[39;00m \u001b[39mself\u001b[39m\n",
      "File \u001b[0;32m~/opt/anaconda3/envs/survival/lib/python3.8/site-packages/skorch/net.py:1174\u001b[0m, in \u001b[0;36mNeuralNet.partial_fit\u001b[0;34m(self, X, y, classes, **fit_params)\u001b[0m\n\u001b[1;32m   <a href='file:///Users/nja/opt/anaconda3/envs/survival/lib/python3.8/site-packages/skorch/net.py?line=1171'>1172</a>\u001b[0m \u001b[39mself\u001b[39m\u001b[39m.\u001b[39mnotify(\u001b[39m'\u001b[39m\u001b[39mon_train_begin\u001b[39m\u001b[39m'\u001b[39m, X\u001b[39m=\u001b[39mX, y\u001b[39m=\u001b[39my)\n\u001b[1;32m   <a href='file:///Users/nja/opt/anaconda3/envs/survival/lib/python3.8/site-packages/skorch/net.py?line=1172'>1173</a>\u001b[0m \u001b[39mtry\u001b[39;00m:\n\u001b[0;32m-> <a href='file:///Users/nja/opt/anaconda3/envs/survival/lib/python3.8/site-packages/skorch/net.py?line=1173'>1174</a>\u001b[0m     \u001b[39mself\u001b[39;49m\u001b[39m.\u001b[39;49mfit_loop(X, y, \u001b[39m*\u001b[39;49m\u001b[39m*\u001b[39;49mfit_params)\n\u001b[1;32m   <a href='file:///Users/nja/opt/anaconda3/envs/survival/lib/python3.8/site-packages/skorch/net.py?line=1174'>1175</a>\u001b[0m \u001b[39mexcept\u001b[39;00m \u001b[39mKeyboardInterrupt\u001b[39;00m:\n\u001b[1;32m   <a href='file:///Users/nja/opt/anaconda3/envs/survival/lib/python3.8/site-packages/skorch/net.py?line=1175'>1176</a>\u001b[0m     \u001b[39mpass\u001b[39;00m\n",
      "File \u001b[0;32m~/opt/anaconda3/envs/survival/lib/python3.8/site-packages/skorch/net.py:1087\u001b[0m, in \u001b[0;36mNeuralNet.fit_loop\u001b[0;34m(self, X, y, epochs, **fit_params)\u001b[0m\n\u001b[1;32m   <a href='file:///Users/nja/opt/anaconda3/envs/survival/lib/python3.8/site-packages/skorch/net.py?line=1083'>1084</a>\u001b[0m \u001b[39mfor\u001b[39;00m _ \u001b[39min\u001b[39;00m \u001b[39mrange\u001b[39m(epochs):\n\u001b[1;32m   <a href='file:///Users/nja/opt/anaconda3/envs/survival/lib/python3.8/site-packages/skorch/net.py?line=1084'>1085</a>\u001b[0m     \u001b[39mself\u001b[39m\u001b[39m.\u001b[39mnotify(\u001b[39m'\u001b[39m\u001b[39mon_epoch_begin\u001b[39m\u001b[39m'\u001b[39m, \u001b[39m*\u001b[39m\u001b[39m*\u001b[39mon_epoch_kwargs)\n\u001b[0;32m-> <a href='file:///Users/nja/opt/anaconda3/envs/survival/lib/python3.8/site-packages/skorch/net.py?line=1086'>1087</a>\u001b[0m     \u001b[39mself\u001b[39;49m\u001b[39m.\u001b[39;49mrun_single_epoch(dataset_train, training\u001b[39m=\u001b[39;49m\u001b[39mTrue\u001b[39;49;00m, prefix\u001b[39m=\u001b[39;49m\u001b[39m\"\u001b[39;49m\u001b[39mtrain\u001b[39;49m\u001b[39m\"\u001b[39;49m,\n\u001b[1;32m   <a href='file:///Users/nja/opt/anaconda3/envs/survival/lib/python3.8/site-packages/skorch/net.py?line=1087'>1088</a>\u001b[0m                           step_fn\u001b[39m=\u001b[39;49m\u001b[39mself\u001b[39;49m\u001b[39m.\u001b[39;49mtrain_step, \u001b[39m*\u001b[39;49m\u001b[39m*\u001b[39;49mfit_params)\n\u001b[1;32m   <a href='file:///Users/nja/opt/anaconda3/envs/survival/lib/python3.8/site-packages/skorch/net.py?line=1089'>1090</a>\u001b[0m     \u001b[39mself\u001b[39m\u001b[39m.\u001b[39mrun_single_epoch(dataset_valid, training\u001b[39m=\u001b[39m\u001b[39mFalse\u001b[39;00m, prefix\u001b[39m=\u001b[39m\u001b[39m\"\u001b[39m\u001b[39mvalid\u001b[39m\u001b[39m\"\u001b[39m,\n\u001b[1;32m   <a href='file:///Users/nja/opt/anaconda3/envs/survival/lib/python3.8/site-packages/skorch/net.py?line=1090'>1091</a>\u001b[0m                           step_fn\u001b[39m=\u001b[39m\u001b[39mself\u001b[39m\u001b[39m.\u001b[39mvalidation_step, \u001b[39m*\u001b[39m\u001b[39m*\u001b[39mfit_params)\n\u001b[1;32m   <a href='file:///Users/nja/opt/anaconda3/envs/survival/lib/python3.8/site-packages/skorch/net.py?line=1092'>1093</a>\u001b[0m     \u001b[39mself\u001b[39m\u001b[39m.\u001b[39mnotify(\u001b[39m\"\u001b[39m\u001b[39mon_epoch_end\u001b[39m\u001b[39m\"\u001b[39m, \u001b[39m*\u001b[39m\u001b[39m*\u001b[39mon_epoch_kwargs)\n",
      "File \u001b[0;32m~/opt/anaconda3/envs/survival/lib/python3.8/site-packages/skorch/net.py:1120\u001b[0m, in \u001b[0;36mNeuralNet.run_single_epoch\u001b[0;34m(self, dataset, training, prefix, step_fn, **fit_params)\u001b[0m\n\u001b[1;32m   <a href='file:///Users/nja/opt/anaconda3/envs/survival/lib/python3.8/site-packages/skorch/net.py?line=1116'>1117</a>\u001b[0m     \u001b[39mreturn\u001b[39;00m\n\u001b[1;32m   <a href='file:///Users/nja/opt/anaconda3/envs/survival/lib/python3.8/site-packages/skorch/net.py?line=1118'>1119</a>\u001b[0m batch_count \u001b[39m=\u001b[39m \u001b[39m0\u001b[39m\n\u001b[0;32m-> <a href='file:///Users/nja/opt/anaconda3/envs/survival/lib/python3.8/site-packages/skorch/net.py?line=1119'>1120</a>\u001b[0m \u001b[39mfor\u001b[39;00m batch \u001b[39min\u001b[39;00m \u001b[39mself\u001b[39m\u001b[39m.\u001b[39mget_iterator(dataset, training\u001b[39m=\u001b[39mtraining):\n\u001b[1;32m   <a href='file:///Users/nja/opt/anaconda3/envs/survival/lib/python3.8/site-packages/skorch/net.py?line=1120'>1121</a>\u001b[0m     \u001b[39mself\u001b[39m\u001b[39m.\u001b[39mnotify(\u001b[39m\"\u001b[39m\u001b[39mon_batch_begin\u001b[39m\u001b[39m\"\u001b[39m, batch\u001b[39m=\u001b[39mbatch, training\u001b[39m=\u001b[39mtraining)\n\u001b[1;32m   <a href='file:///Users/nja/opt/anaconda3/envs/survival/lib/python3.8/site-packages/skorch/net.py?line=1121'>1122</a>\u001b[0m     step \u001b[39m=\u001b[39m step_fn(batch, \u001b[39m*\u001b[39m\u001b[39m*\u001b[39mfit_params)\n",
      "File \u001b[0;32m~/opt/anaconda3/envs/survival/lib/python3.8/site-packages/torch/utils/data/dataloader.py:530\u001b[0m, in \u001b[0;36m_BaseDataLoaderIter.__next__\u001b[0;34m(self)\u001b[0m\n\u001b[1;32m    <a href='file:///Users/nja/opt/anaconda3/envs/survival/lib/python3.8/site-packages/torch/utils/data/dataloader.py?line=527'>528</a>\u001b[0m \u001b[39mif\u001b[39;00m \u001b[39mself\u001b[39m\u001b[39m.\u001b[39m_sampler_iter \u001b[39mis\u001b[39;00m \u001b[39mNone\u001b[39;00m:\n\u001b[1;32m    <a href='file:///Users/nja/opt/anaconda3/envs/survival/lib/python3.8/site-packages/torch/utils/data/dataloader.py?line=528'>529</a>\u001b[0m     \u001b[39mself\u001b[39m\u001b[39m.\u001b[39m_reset()\n\u001b[0;32m--> <a href='file:///Users/nja/opt/anaconda3/envs/survival/lib/python3.8/site-packages/torch/utils/data/dataloader.py?line=529'>530</a>\u001b[0m data \u001b[39m=\u001b[39m \u001b[39mself\u001b[39;49m\u001b[39m.\u001b[39;49m_next_data()\n\u001b[1;32m    <a href='file:///Users/nja/opt/anaconda3/envs/survival/lib/python3.8/site-packages/torch/utils/data/dataloader.py?line=530'>531</a>\u001b[0m \u001b[39mself\u001b[39m\u001b[39m.\u001b[39m_num_yielded \u001b[39m+\u001b[39m\u001b[39m=\u001b[39m \u001b[39m1\u001b[39m\n\u001b[1;32m    <a href='file:///Users/nja/opt/anaconda3/envs/survival/lib/python3.8/site-packages/torch/utils/data/dataloader.py?line=531'>532</a>\u001b[0m \u001b[39mif\u001b[39;00m \u001b[39mself\u001b[39m\u001b[39m.\u001b[39m_dataset_kind \u001b[39m==\u001b[39m _DatasetKind\u001b[39m.\u001b[39mIterable \u001b[39mand\u001b[39;00m \\\n\u001b[1;32m    <a href='file:///Users/nja/opt/anaconda3/envs/survival/lib/python3.8/site-packages/torch/utils/data/dataloader.py?line=532'>533</a>\u001b[0m         \u001b[39mself\u001b[39m\u001b[39m.\u001b[39m_IterableDataset_len_called \u001b[39mis\u001b[39;00m \u001b[39mnot\u001b[39;00m \u001b[39mNone\u001b[39;00m \u001b[39mand\u001b[39;00m \\\n\u001b[1;32m    <a href='file:///Users/nja/opt/anaconda3/envs/survival/lib/python3.8/site-packages/torch/utils/data/dataloader.py?line=533'>534</a>\u001b[0m         \u001b[39mself\u001b[39m\u001b[39m.\u001b[39m_num_yielded \u001b[39m>\u001b[39m \u001b[39mself\u001b[39m\u001b[39m.\u001b[39m_IterableDataset_len_called:\n",
      "File \u001b[0;32m~/opt/anaconda3/envs/survival/lib/python3.8/site-packages/torch/utils/data/dataloader.py:570\u001b[0m, in \u001b[0;36m_SingleProcessDataLoaderIter._next_data\u001b[0;34m(self)\u001b[0m\n\u001b[1;32m    <a href='file:///Users/nja/opt/anaconda3/envs/survival/lib/python3.8/site-packages/torch/utils/data/dataloader.py?line=567'>568</a>\u001b[0m \u001b[39mdef\u001b[39;00m \u001b[39m_next_data\u001b[39m(\u001b[39mself\u001b[39m):\n\u001b[1;32m    <a href='file:///Users/nja/opt/anaconda3/envs/survival/lib/python3.8/site-packages/torch/utils/data/dataloader.py?line=568'>569</a>\u001b[0m     index \u001b[39m=\u001b[39m \u001b[39mself\u001b[39m\u001b[39m.\u001b[39m_next_index()  \u001b[39m# may raise StopIteration\u001b[39;00m\n\u001b[0;32m--> <a href='file:///Users/nja/opt/anaconda3/envs/survival/lib/python3.8/site-packages/torch/utils/data/dataloader.py?line=569'>570</a>\u001b[0m     data \u001b[39m=\u001b[39m \u001b[39mself\u001b[39;49m\u001b[39m.\u001b[39;49m_dataset_fetcher\u001b[39m.\u001b[39;49mfetch(index)  \u001b[39m# may raise StopIteration\u001b[39;00m\n\u001b[1;32m    <a href='file:///Users/nja/opt/anaconda3/envs/survival/lib/python3.8/site-packages/torch/utils/data/dataloader.py?line=570'>571</a>\u001b[0m     \u001b[39mif\u001b[39;00m \u001b[39mself\u001b[39m\u001b[39m.\u001b[39m_pin_memory:\n\u001b[1;32m    <a href='file:///Users/nja/opt/anaconda3/envs/survival/lib/python3.8/site-packages/torch/utils/data/dataloader.py?line=571'>572</a>\u001b[0m         data \u001b[39m=\u001b[39m _utils\u001b[39m.\u001b[39mpin_memory\u001b[39m.\u001b[39mpin_memory(data)\n",
      "File \u001b[0;32m~/opt/anaconda3/envs/survival/lib/python3.8/site-packages/torch/utils/data/_utils/fetch.py:52\u001b[0m, in \u001b[0;36m_MapDatasetFetcher.fetch\u001b[0;34m(self, possibly_batched_index)\u001b[0m\n\u001b[1;32m     <a href='file:///Users/nja/opt/anaconda3/envs/survival/lib/python3.8/site-packages/torch/utils/data/_utils/fetch.py?line=49'>50</a>\u001b[0m \u001b[39melse\u001b[39;00m:\n\u001b[1;32m     <a href='file:///Users/nja/opt/anaconda3/envs/survival/lib/python3.8/site-packages/torch/utils/data/_utils/fetch.py?line=50'>51</a>\u001b[0m     data \u001b[39m=\u001b[39m \u001b[39mself\u001b[39m\u001b[39m.\u001b[39mdataset[possibly_batched_index]\n\u001b[0;32m---> <a href='file:///Users/nja/opt/anaconda3/envs/survival/lib/python3.8/site-packages/torch/utils/data/_utils/fetch.py?line=51'>52</a>\u001b[0m \u001b[39mreturn\u001b[39;00m \u001b[39mself\u001b[39;49m\u001b[39m.\u001b[39;49mcollate_fn(data)\n",
      "File \u001b[0;32m~/opt/anaconda3/envs/survival/lib/python3.8/site-packages/torch/utils/data/_utils/collate.py:172\u001b[0m, in \u001b[0;36mdefault_collate\u001b[0;34m(batch)\u001b[0m\n\u001b[1;32m    <a href='file:///Users/nja/opt/anaconda3/envs/survival/lib/python3.8/site-packages/torch/utils/data/_utils/collate.py?line=168'>169</a>\u001b[0m transposed \u001b[39m=\u001b[39m \u001b[39mlist\u001b[39m(\u001b[39mzip\u001b[39m(\u001b[39m*\u001b[39mbatch))  \u001b[39m# It may be accessed twice, so we use a list.\u001b[39;00m\n\u001b[1;32m    <a href='file:///Users/nja/opt/anaconda3/envs/survival/lib/python3.8/site-packages/torch/utils/data/_utils/collate.py?line=170'>171</a>\u001b[0m \u001b[39mif\u001b[39;00m \u001b[39misinstance\u001b[39m(elem, \u001b[39mtuple\u001b[39m):\n\u001b[0;32m--> <a href='file:///Users/nja/opt/anaconda3/envs/survival/lib/python3.8/site-packages/torch/utils/data/_utils/collate.py?line=171'>172</a>\u001b[0m     \u001b[39mreturn\u001b[39;00m [default_collate(samples) \u001b[39mfor\u001b[39;00m samples \u001b[39min\u001b[39;00m transposed]  \u001b[39m# Backwards compatibility.\u001b[39;00m\n\u001b[1;32m    <a href='file:///Users/nja/opt/anaconda3/envs/survival/lib/python3.8/site-packages/torch/utils/data/_utils/collate.py?line=172'>173</a>\u001b[0m \u001b[39melse\u001b[39;00m:\n\u001b[1;32m    <a href='file:///Users/nja/opt/anaconda3/envs/survival/lib/python3.8/site-packages/torch/utils/data/_utils/collate.py?line=173'>174</a>\u001b[0m     \u001b[39mtry\u001b[39;00m:\n",
      "File \u001b[0;32m~/opt/anaconda3/envs/survival/lib/python3.8/site-packages/torch/utils/data/_utils/collate.py:172\u001b[0m, in \u001b[0;36m<listcomp>\u001b[0;34m(.0)\u001b[0m\n\u001b[1;32m    <a href='file:///Users/nja/opt/anaconda3/envs/survival/lib/python3.8/site-packages/torch/utils/data/_utils/collate.py?line=168'>169</a>\u001b[0m transposed \u001b[39m=\u001b[39m \u001b[39mlist\u001b[39m(\u001b[39mzip\u001b[39m(\u001b[39m*\u001b[39mbatch))  \u001b[39m# It may be accessed twice, so we use a list.\u001b[39;00m\n\u001b[1;32m    <a href='file:///Users/nja/opt/anaconda3/envs/survival/lib/python3.8/site-packages/torch/utils/data/_utils/collate.py?line=170'>171</a>\u001b[0m \u001b[39mif\u001b[39;00m \u001b[39misinstance\u001b[39m(elem, \u001b[39mtuple\u001b[39m):\n\u001b[0;32m--> <a href='file:///Users/nja/opt/anaconda3/envs/survival/lib/python3.8/site-packages/torch/utils/data/_utils/collate.py?line=171'>172</a>\u001b[0m     \u001b[39mreturn\u001b[39;00m [default_collate(samples) \u001b[39mfor\u001b[39;00m samples \u001b[39min\u001b[39;00m transposed]  \u001b[39m# Backwards compatibility.\u001b[39;00m\n\u001b[1;32m    <a href='file:///Users/nja/opt/anaconda3/envs/survival/lib/python3.8/site-packages/torch/utils/data/_utils/collate.py?line=172'>173</a>\u001b[0m \u001b[39melse\u001b[39;00m:\n\u001b[1;32m    <a href='file:///Users/nja/opt/anaconda3/envs/survival/lib/python3.8/site-packages/torch/utils/data/_utils/collate.py?line=173'>174</a>\u001b[0m     \u001b[39mtry\u001b[39;00m:\n",
      "File \u001b[0;32m~/opt/anaconda3/envs/survival/lib/python3.8/site-packages/torch/utils/data/_utils/collate.py:160\u001b[0m, in \u001b[0;36mdefault_collate\u001b[0;34m(batch)\u001b[0m\n\u001b[1;32m    <a href='file:///Users/nja/opt/anaconda3/envs/survival/lib/python3.8/site-packages/torch/utils/data/_utils/collate.py?line=156'>157</a>\u001b[0m         \u001b[39mreturn\u001b[39;00m elem_type({key: default_collate([d[key] \u001b[39mfor\u001b[39;00m d \u001b[39min\u001b[39;00m batch]) \u001b[39mfor\u001b[39;00m key \u001b[39min\u001b[39;00m elem})\n\u001b[1;32m    <a href='file:///Users/nja/opt/anaconda3/envs/survival/lib/python3.8/site-packages/torch/utils/data/_utils/collate.py?line=157'>158</a>\u001b[0m     \u001b[39mexcept\u001b[39;00m \u001b[39mTypeError\u001b[39;00m:\n\u001b[1;32m    <a href='file:///Users/nja/opt/anaconda3/envs/survival/lib/python3.8/site-packages/torch/utils/data/_utils/collate.py?line=158'>159</a>\u001b[0m         \u001b[39m# The mapping type may not support `__init__(iterable)`.\u001b[39;00m\n\u001b[0;32m--> <a href='file:///Users/nja/opt/anaconda3/envs/survival/lib/python3.8/site-packages/torch/utils/data/_utils/collate.py?line=159'>160</a>\u001b[0m         \u001b[39mreturn\u001b[39;00m {key: default_collate([d[key] \u001b[39mfor\u001b[39;00m d \u001b[39min\u001b[39;00m batch]) \u001b[39mfor\u001b[39;00m key \u001b[39min\u001b[39;00m elem}\n\u001b[1;32m    <a href='file:///Users/nja/opt/anaconda3/envs/survival/lib/python3.8/site-packages/torch/utils/data/_utils/collate.py?line=160'>161</a>\u001b[0m \u001b[39melif\u001b[39;00m \u001b[39misinstance\u001b[39m(elem, \u001b[39mtuple\u001b[39m) \u001b[39mand\u001b[39;00m \u001b[39mhasattr\u001b[39m(elem, \u001b[39m'\u001b[39m\u001b[39m_fields\u001b[39m\u001b[39m'\u001b[39m):  \u001b[39m# namedtuple\u001b[39;00m\n\u001b[1;32m    <a href='file:///Users/nja/opt/anaconda3/envs/survival/lib/python3.8/site-packages/torch/utils/data/_utils/collate.py?line=161'>162</a>\u001b[0m     \u001b[39mreturn\u001b[39;00m elem_type(\u001b[39m*\u001b[39m(default_collate(samples) \u001b[39mfor\u001b[39;00m samples \u001b[39min\u001b[39;00m \u001b[39mzip\u001b[39m(\u001b[39m*\u001b[39mbatch)))\n",
      "File \u001b[0;32m~/opt/anaconda3/envs/survival/lib/python3.8/site-packages/torch/utils/data/_utils/collate.py:160\u001b[0m, in \u001b[0;36m<dictcomp>\u001b[0;34m(.0)\u001b[0m\n\u001b[1;32m    <a href='file:///Users/nja/opt/anaconda3/envs/survival/lib/python3.8/site-packages/torch/utils/data/_utils/collate.py?line=156'>157</a>\u001b[0m         \u001b[39mreturn\u001b[39;00m elem_type({key: default_collate([d[key] \u001b[39mfor\u001b[39;00m d \u001b[39min\u001b[39;00m batch]) \u001b[39mfor\u001b[39;00m key \u001b[39min\u001b[39;00m elem})\n\u001b[1;32m    <a href='file:///Users/nja/opt/anaconda3/envs/survival/lib/python3.8/site-packages/torch/utils/data/_utils/collate.py?line=157'>158</a>\u001b[0m     \u001b[39mexcept\u001b[39;00m \u001b[39mTypeError\u001b[39;00m:\n\u001b[1;32m    <a href='file:///Users/nja/opt/anaconda3/envs/survival/lib/python3.8/site-packages/torch/utils/data/_utils/collate.py?line=158'>159</a>\u001b[0m         \u001b[39m# The mapping type may not support `__init__(iterable)`.\u001b[39;00m\n\u001b[0;32m--> <a href='file:///Users/nja/opt/anaconda3/envs/survival/lib/python3.8/site-packages/torch/utils/data/_utils/collate.py?line=159'>160</a>\u001b[0m         \u001b[39mreturn\u001b[39;00m {key: default_collate([d[key] \u001b[39mfor\u001b[39;49;00m d \u001b[39min\u001b[39;49;00m batch]) \u001b[39mfor\u001b[39;00m key \u001b[39min\u001b[39;00m elem}\n\u001b[1;32m    <a href='file:///Users/nja/opt/anaconda3/envs/survival/lib/python3.8/site-packages/torch/utils/data/_utils/collate.py?line=160'>161</a>\u001b[0m \u001b[39melif\u001b[39;00m \u001b[39misinstance\u001b[39m(elem, \u001b[39mtuple\u001b[39m) \u001b[39mand\u001b[39;00m \u001b[39mhasattr\u001b[39m(elem, \u001b[39m'\u001b[39m\u001b[39m_fields\u001b[39m\u001b[39m'\u001b[39m):  \u001b[39m# namedtuple\u001b[39;00m\n\u001b[1;32m    <a href='file:///Users/nja/opt/anaconda3/envs/survival/lib/python3.8/site-packages/torch/utils/data/_utils/collate.py?line=161'>162</a>\u001b[0m     \u001b[39mreturn\u001b[39;00m elem_type(\u001b[39m*\u001b[39m(default_collate(samples) \u001b[39mfor\u001b[39;00m samples \u001b[39min\u001b[39;00m \u001b[39mzip\u001b[39m(\u001b[39m*\u001b[39mbatch)))\n",
      "File \u001b[0;32m~/opt/anaconda3/envs/survival/lib/python3.8/site-packages/torch/utils/data/_utils/collate.py:144\u001b[0m, in \u001b[0;36mdefault_collate\u001b[0;34m(batch)\u001b[0m\n\u001b[1;32m    <a href='file:///Users/nja/opt/anaconda3/envs/survival/lib/python3.8/site-packages/torch/utils/data/_utils/collate.py?line=140'>141</a>\u001b[0m \u001b[39mif\u001b[39;00m elem_type\u001b[39m.\u001b[39m\u001b[39m__name__\u001b[39m \u001b[39m==\u001b[39m \u001b[39m'\u001b[39m\u001b[39mndarray\u001b[39m\u001b[39m'\u001b[39m \u001b[39mor\u001b[39;00m elem_type\u001b[39m.\u001b[39m\u001b[39m__name__\u001b[39m \u001b[39m==\u001b[39m \u001b[39m'\u001b[39m\u001b[39mmemmap\u001b[39m\u001b[39m'\u001b[39m:\n\u001b[1;32m    <a href='file:///Users/nja/opt/anaconda3/envs/survival/lib/python3.8/site-packages/torch/utils/data/_utils/collate.py?line=141'>142</a>\u001b[0m     \u001b[39m# array of string classes and object\u001b[39;00m\n\u001b[1;32m    <a href='file:///Users/nja/opt/anaconda3/envs/survival/lib/python3.8/site-packages/torch/utils/data/_utils/collate.py?line=142'>143</a>\u001b[0m     \u001b[39mif\u001b[39;00m np_str_obj_array_pattern\u001b[39m.\u001b[39msearch(elem\u001b[39m.\u001b[39mdtype\u001b[39m.\u001b[39mstr) \u001b[39mis\u001b[39;00m \u001b[39mnot\u001b[39;00m \u001b[39mNone\u001b[39;00m:\n\u001b[0;32m--> <a href='file:///Users/nja/opt/anaconda3/envs/survival/lib/python3.8/site-packages/torch/utils/data/_utils/collate.py?line=143'>144</a>\u001b[0m         \u001b[39mraise\u001b[39;00m \u001b[39mTypeError\u001b[39;00m(default_collate_err_msg_format\u001b[39m.\u001b[39mformat(elem\u001b[39m.\u001b[39mdtype))\n\u001b[1;32m    <a href='file:///Users/nja/opt/anaconda3/envs/survival/lib/python3.8/site-packages/torch/utils/data/_utils/collate.py?line=145'>146</a>\u001b[0m     \u001b[39mreturn\u001b[39;00m default_collate([torch\u001b[39m.\u001b[39mas_tensor(b) \u001b[39mfor\u001b[39;00m b \u001b[39min\u001b[39;00m batch])\n\u001b[1;32m    <a href='file:///Users/nja/opt/anaconda3/envs/survival/lib/python3.8/site-packages/torch/utils/data/_utils/collate.py?line=146'>147</a>\u001b[0m \u001b[39melif\u001b[39;00m elem\u001b[39m.\u001b[39mshape \u001b[39m==\u001b[39m ():  \u001b[39m# scalars\u001b[39;00m\n",
      "\u001b[0;31mTypeError\u001b[0m: default_collate: batch must contain tensors, numpy arrays, numbers, dicts or lists; found object"
     ]
    }
   ],
   "source": [
    "multisurv_skorch.fit(dataset)"
   ]
  },
  {
   "cell_type": "code",
   "execution_count": null,
   "metadata": {},
   "outputs": [],
   "source": []
  }
 ],
 "metadata": {
  "interpreter": {
   "hash": "14f660d8bd35079bd85c3fb2ece886548cc5ffe5bc1b98d68af64c97821c57bd"
  },
  "kernelspec": {
   "display_name": "Python 3.8.13 ('survival')",
   "language": "python",
   "name": "python3"
  },
  "language_info": {
   "codemirror_mode": {
    "name": "ipython",
    "version": 3
   },
   "file_extension": ".py",
   "mimetype": "text/x-python",
   "name": "python",
   "nbconvert_exporter": "python",
   "pygments_lexer": "ipython3",
   "version": "3.8.13"
  },
  "orig_nbformat": 4
 },
 "nbformat": 4,
 "nbformat_minor": 2
}
